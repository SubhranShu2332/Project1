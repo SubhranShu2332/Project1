{
 "cells": [
  {
   "cell_type": "code",
   "execution_count": 1,
   "metadata": {},
   "outputs": [
    {
     "ename": "ModuleNotFoundError",
     "evalue": "No module named 'fbprophet'",
     "output_type": "error",
     "traceback": [
      "\u001b[1;31m---------------------------------------------------------------------------\u001b[0m",
      "\u001b[1;31mModuleNotFoundError\u001b[0m                       Traceback (most recent call last)",
      "Cell \u001b[1;32mIn[1], line 4\u001b[0m\n\u001b[0;32m      2\u001b[0m \u001b[39mimport\u001b[39;00m \u001b[39mnumpy\u001b[39;00m \u001b[39mas\u001b[39;00m \u001b[39mnp\u001b[39;00m\n\u001b[0;32m      3\u001b[0m \u001b[39mimport\u001b[39;00m \u001b[39mmatplotlib\u001b[39;00m\u001b[39m.\u001b[39;00m\u001b[39mpyplot\u001b[39;00m \u001b[39mas\u001b[39;00m \u001b[39mplt\u001b[39;00m\n\u001b[1;32m----> 4\u001b[0m \u001b[39mfrom\u001b[39;00m \u001b[39mfbprophet\u001b[39;00m \u001b[39mimport\u001b[39;00m Prophet\n\u001b[0;32m      6\u001b[0m \u001b[39m# Read in the CSV file containing layoff data\u001b[39;00m\n\u001b[0;32m      7\u001b[0m df \u001b[39m=\u001b[39m pd\u001b[39m.\u001b[39mread_csv(\u001b[39m\"\u001b[39m\u001b[39mwebDev6.csv\u001b[39m\u001b[39m\"\u001b[39m)\n",
      "\u001b[1;31mModuleNotFoundError\u001b[0m: No module named 'fbprophet'"
     ]
    }
   ],
   "source": [
    "import pandas as pd\n",
    "import numpy as np\n",
    "import matplotlib.pyplot as plt\n",
    "from fbprophet import Prophet\n",
    "\n",
    "# Read in the CSV file containing layoff data\n",
    "df = pd.read_csv(\"webDev6.csv\")\n",
    "\n",
    "# Rename the columns to 'ds' and 'y' for Prophet compatibility\n",
    "df = df.rename(columns={'Date': 'ds', 'Laid_off': 'y'})\n",
    "\n",
    "# Train the Prophet model on the historical data\n",
    "model = Prophet()\n",
    "model.fit(df)\n",
    "\n",
    "# Use the model to predict the layoff numbers for the next 5 years\n",
    "future_df = model.make_future_dataframe(periods=12, freq='M')\n",
    "forecast = model.predict(future_df)\n",
    "\n",
    "# Plot the historical and forecast data on a graph\n",
    "model.plot(forecast, xlabel='Date', ylabel='Layoffs')\n",
    "plt.show()\n"
   ]
  }
 ],
 "metadata": {
  "kernelspec": {
   "display_name": "Python 3",
   "language": "python",
   "name": "python3"
  },
  "language_info": {
   "codemirror_mode": {
    "name": "ipython",
    "version": 3
   },
   "file_extension": ".py",
   "mimetype": "text/x-python",
   "name": "python",
   "nbconvert_exporter": "python",
   "pygments_lexer": "ipython3",
   "version": "3.8.0"
  },
  "orig_nbformat": 4,
  "vscode": {
   "interpreter": {
    "hash": "812a6f5cd701fa90b901ee894522b0f57ae70dba4ceda3c211f441008024e8f5"
   }
  }
 },
 "nbformat": 4,
 "nbformat_minor": 2
}
