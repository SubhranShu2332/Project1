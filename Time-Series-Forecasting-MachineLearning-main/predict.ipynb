import pandas as pd
import numpy as np
import matplotlib.pyplot as plt
import statsmodels.api as sm

# Load data from CSV file
data = pd.read_csv('webDev6.csv')

# Convert date column to datetime and set as index
data['date'] = pd.to_datetime(data['date'])
data.set_index('date', inplace=True)

# Plot time series data
data.plot(figsize=(12,6))
plt.show()

# Check for stationarity using ADF test
result = sm.tsa.stattools.adfuller(data['laid_off_numbers'])
print(f'ADF test p-value: {result[1]:.4f}')

# Determine order of differencing
diff_data = data.diff().dropna()
result = sm.tsa.stattools.adfuller(diff_data['laid_off_numbers'])
print(f'Differenced ADF test p-value: {result[1]:.4f}')

# Determine AR and MA parameters
fig, ax = plt.subplots(2,1,figsize=(12,6))
sm.graphics.tsa.plot_acf(diff_data, lags=30, ax=ax[0])
sm.graphics.tsa.plot_pacf(diff_data, lags=30, ax=ax[1])
plt.show()

# Create and fit ARIMA model
model = sm.tsa.ARIMA(data, order=(1,1,1))
fit_model = model.fit()

# Generate forecast for next 5 years
forecast = fit_model.forecast(steps=5*12)

# Plot forecasted values along with historical data
plt.figure(figsize=(12,6))
plt.plot(data.index, data['laid_off_numbers'], label='Actual')
plt.plot(forecast.index, forecast, label='Forecast')
plt.legend()
plt.show()
